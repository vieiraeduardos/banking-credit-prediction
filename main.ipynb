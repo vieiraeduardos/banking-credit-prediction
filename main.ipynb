{
 "cells": [
  {
   "cell_type": "markdown",
   "metadata": {},
   "source": [
    "### References"
   ]
  },
  {
   "cell_type": "code",
   "execution_count": 1,
   "metadata": {},
   "outputs": [
    {
     "name": "stdout",
     "output_type": "stream",
     "text": [
      "Automatically created module for IPython interactive environment\n"
     ]
    }
   ],
   "source": [
    "# Authors: Eduardo S Vieira <edusvieirap@gmail.com>\n",
    "# License: MIT\n",
    "\n",
    "print(__doc__)"
   ]
  },
  {
   "cell_type": "markdown",
   "metadata": {},
   "source": [
    "### Data loading"
   ]
  },
  {
   "cell_type": "code",
   "execution_count": 2,
   "metadata": {},
   "outputs": [],
   "source": [
    "import pickle\n",
    "\n",
    "import pandas as pd\n",
    "\n",
    "from sklearn.model_selection import StratifiedKFold\n",
    "\n",
    "from sklearn.metrics import f1_score\n",
    "from sklearn.metrics import precision_score\n",
    "from sklearn.metrics import recall_score\n",
    "from sklearn.metrics import accuracy_score\n",
    "from sklearn.metrics import roc_auc_score\n",
    "from sklearn.metrics import cohen_kappa_score\n",
    "\n",
    "from xgboost import XGBClassifier\n",
    "from sklearn.ensemble import RandomForestClassifier\n",
    "from sklearn.neighbors import KNeighborsClassifier\n",
    "from sklearn.tree import DecisionTreeClassifier\n",
    "from sklearn.ensemble import ExtraTreesClassifier\n",
    "from sklearn.ensemble import AdaBoostClassifier\n",
    "from sklearn.ensemble import GradientBoostingClassifier\n",
    "from sklearn.ensemble import HistGradientBoostingClassifier\n",
    "\n",
    "from collections import Counter\n",
    "\n",
    "from sklearn.preprocessing import StandardScaler"
   ]
  },
  {
   "cell_type": "code",
   "execution_count": 3,
   "metadata": {},
   "outputs": [],
   "source": [
    "training_data = pd.read_csv(\"Datasets/training.csv\")\n",
    "testing_data = pd.read_csv(\"Datasets/testing.csv\")\n",
    "\n",
    "X_train = training_data.drop([\"default payment next month\"], axis=1)\n",
    "y_train = training_data[\"default payment next month\"]\n",
    "\n",
    "X_test = testing_data.drop([\"default payment next month\"], axis=1)\n",
    "y_test = testing_data[\"default payment next month\"]"
   ]
  },
  {
   "cell_type": "code",
   "execution_count": 4,
   "metadata": {},
   "outputs": [
    {
     "data": {
      "text/plain": [
       "(18000, 24)"
      ]
     },
     "execution_count": 4,
     "metadata": {},
     "output_type": "execute_result"
    }
   ],
   "source": [
    "scaler = StandardScaler()\n",
    "\n",
    "X_train = scaler.fit_transform(X_train)\n",
    "\n",
    "X_train.shape"
   ]
  },
  {
   "cell_type": "code",
   "execution_count": 5,
   "metadata": {},
   "outputs": [
    {
     "data": {
      "text/plain": [
       "(12000, 24)"
      ]
     },
     "execution_count": 5,
     "metadata": {},
     "output_type": "execute_result"
    }
   ],
   "source": [
    "scaler = StandardScaler()\n",
    "\n",
    "X_test = scaler.fit_transform(X_test)\n",
    "\n",
    "X_test.shape"
   ]
  },
  {
   "cell_type": "code",
   "execution_count": 6,
   "metadata": {},
   "outputs": [
    {
     "name": "stdout",
     "output_type": "stream",
     "text": [
      "The training data set is imbalanced: Counter({0: 14092, 1: 3908})\n",
      "The testing data set is imbalanced: Counter({0: 9272, 1: 2728})\n"
     ]
    }
   ],
   "source": [
    "print(f\"The training data set is imbalanced: {Counter(y_train)}\")\n",
    "print(f\"The testing data set is imbalanced: {Counter(y_test)}\")"
   ]
  },
  {
   "cell_type": "markdown",
   "metadata": {},
   "source": [
    "### Metrics for evaluating model"
   ]
  },
  {
   "cell_type": "markdown",
   "metadata": {},
   "source": [
    "Links for references metrics\n",
    "\n",
    "    1. F1 Score: https://scikit-learn.org/stable/modules/generated/sklearn.metrics.f1_score.html\n",
    "\n",
    "    2. Precision: https://scikit-learn.org/stable/modules/generated/sklearn.metrics.precision_score.html\n",
    "\n",
    "    3. Recall: https://scikit-learn.org/stable/modules/generated/sklearn.metrics.recall_score.html\n",
    "\n",
    "    4. Accuracy: https://scikit-learn.org/stable/modules/generated/sklearn.metrics.accuracy_score.html\n",
    "\n",
    "    5. ROC AUC: https://scikit-learn.org/stable/modules/generated/sklearn.metrics.roc_auc_score.html\n",
    "\n",
    "    6. Coen´s Kappa: https://scikit-learn.org/stable/modules/generated/sklearn.metrics.cohen_kappa_score.html"
   ]
  },
  {
   "cell_type": "code",
   "execution_count": 7,
   "metadata": {},
   "outputs": [],
   "source": [
    "class Metrics():\n",
    "    def get_results(self, y_true, y_pred):\n",
    "        f1 = f1_score(y_true, y_pred, zero_division=1, average=\"weighted\")\n",
    "        precision = precision_score(y_true, y_pred, zero_division=1, average=\"weighted\")\n",
    "        recall = recall_score(y_true, y_pred, zero_division=1, average=\"weighted\")\n",
    "        accuracy = accuracy_score(y_true, y_pred)\n",
    "        auc = roc_auc_score(y_true, y_pred, average=\"weighted\")\n",
    "        kappa = cohen_kappa_score(y_true, y_pred)\n",
    "\n",
    "        return f1, precision, recall, accuracy, auc, kappa"
   ]
  },
  {
   "cell_type": "markdown",
   "metadata": {},
   "source": [
    "### Training"
   ]
  },
  {
   "cell_type": "code",
   "execution_count": 8,
   "metadata": {},
   "outputs": [],
   "source": [
    "def generate_reports(best_result, method_name, step):\n",
    "    pd.DataFrame(best_result).to_csv(f\"Reports/No SMOTE/{method_name}-{step}-reports.csv\", index=0)   "
   ]
  },
  {
   "cell_type": "code",
   "execution_count": 9,
   "metadata": {},
   "outputs": [],
   "source": [
    "def train(method_name, model):\n",
    "    kf = StratifiedKFold(n_splits=10)\n",
    "\n",
    "    metrics = Metrics()\n",
    "    n_fold = 1\n",
    "    best_result = {\"F1\": 0, \"Precision\": 0, \"Recall\": 0, \"Accuracy\": 0, \"AUC\": 0}\n",
    "\n",
    "    for train_index, test_index in kf.split(X_train, y_train):\n",
    "        #X_kfold_train, X_kfold_test = X_train.iloc[train_index], X_train.iloc[test_index]\n",
    "        X_kfold_train, X_kfold_test = X_train[train_index], X_train[test_index]\n",
    "        y_kfold_train, y_kfold_test = y_train.iloc[train_index], y_train.iloc[test_index]\n",
    "\n",
    "        m = model\n",
    "                \n",
    "        m.fit(X_kfold_train, y_kfold_train)\n",
    "\n",
    "        y_pred = m.predict(X_kfold_test)\n",
    "\n",
    "        f1, precision, recall, accuracy, auc, kappa = metrics.get_results(y_kfold_test, y_pred)\n",
    "\n",
    "        print(f\"Score at fold {n_fold}: F1-Score = {f1} Precision = {precision} Recall = {recall} Accuracy = {accuracy} AUC = {auc} Kappa = {kappa}\")\n",
    "\n",
    "        if best_result[\"F1\"] < f1:\n",
    "            best_result = {\"F1\": [f1], \"Precision\": [precision], \"Recall\": [recall], \"Accuracy\": [accuracy], \"AUC\": [auc], \"Kappa\": [kappa]}\n",
    "\n",
    "            pickle.dump(m, open(f\"Models/No SMOTE/{method_name}-model.sav\", 'wb'))\n",
    "\n",
    "            generate_reports(best_result, method_name, \"train\")\n",
    "\n",
    "        n_fold += 1"
   ]
  },
  {
   "cell_type": "code",
   "execution_count": 220,
   "metadata": {},
   "outputs": [
    {
     "name": "stdout",
     "output_type": "stream",
     "text": [
      "Evaluating method: random-forest\n",
      "Score at fold 1: F1-Score = 0.7926282224233547 Precision = 0.7946774470030284 Recall = 0.815 Accuracy = 0.815 AUC = 0.6435624659028916 Kappa = 0.34504687602438855\n",
      "Score at fold 2: F1-Score = 0.7819058474521897 Precision = 0.7785373489158092 Recall = 0.8016666666666666 Accuracy = 0.8016666666666666 AUC = 0.6350518276050192 Kappa = 0.3161356235234021\n",
      "Score at fold 3: F1-Score = 0.7989494328885496 Precision = 0.8024953079764401 Recall = 0.8205555555555556 Accuracy = 0.8205555555555556 AUC = 0.6525541867316248 Kappa = 0.3663767736873079\n",
      "Score at fold 4: F1-Score = 0.7965471254119959 Precision = 0.7980828246158684 Recall = 0.8172222222222222 Accuracy = 0.8172222222222222 AUC = 0.6513489278823202 Kappa = 0.36028449084176284\n",
      "Score at fold 5: F1-Score = 0.7907852709360248 Precision = 0.7932340498823122 Recall = 0.8138888888888889 Accuracy = 0.8138888888888889 AUC = 0.6409045612875941 Kappa = 0.33990725861185667\n",
      "Score at fold 6: F1-Score = 0.7963455173204936 Precision = 0.80098464320775 Recall = 0.8194444444444444 Accuracy = 0.8194444444444444 AUC = 0.647224909650965 Kappa = 0.3567441799093065\n",
      "Score at fold 7: F1-Score = 0.8022758290273005 Precision = 0.808884375 Recall = 0.825 Accuracy = 0.825 AUC = 0.6544691687888784 Kappa = 0.3751377562265814\n",
      "Score at fold 8: F1-Score = 0.7998382166425377 Precision = 0.800568735318435 Recall = 0.8188888888888889 Accuracy = 0.8188888888888889 AUC = 0.6579569773414966 Kappa = 0.37232988835002334\n",
      "Score at fold 9: F1-Score = 0.794743479656912 Precision = 0.7994322916666666 Recall = 0.8183333333333334 Accuracy = 0.8183333333333334 AUC = 0.6446673648939318 Kappa = 0.35133348027330835\n",
      "Score at fold 10: F1-Score = 0.7925857422556412 Precision = 0.7962890253355749 Recall = 0.8161111111111111 Accuracy = 0.8161111111111111 AUC = 0.6423240077034919 Kappa = 0.3448686878460937\n",
      "\n",
      "\n"
     ]
    }
   ],
   "source": [
    "methods = {\n",
    "    \"xgboost\": XGBClassifier(use_label_encoder=False, eval_metric='mlogloss'),\n",
    "    #\"random-forest\": RandomForestClassifier(),\n",
    "    #\"knn\": KNeighborsClassifier(),\n",
    "    #\"decision-tree\": DecisionTreeClassifier(),\n",
    "    #\"extra-trees\": ExtraTreesClassifier(),\n",
    "    #\"ada-boost\": AdaBoostClassifier(),\n",
    "    #\"gradient-boosting\": GradientBoostingClassifier(),\n",
    "    #\"histogram-boosting\": HistGradientBoostingClassifier()\n",
    "}\n",
    "\n",
    "for key in methods.keys():\n",
    "    print(\"Evaluating method: \" + key)\n",
    "    train(method_name=key, model=methods[key])\n",
    "    print(\"\\n\")"
   ]
  },
  {
   "cell_type": "markdown",
   "metadata": {},
   "source": [
    "### Testing"
   ]
  },
  {
   "cell_type": "code",
   "execution_count": 204,
   "metadata": {},
   "outputs": [],
   "source": [
    "def test(method_name):\n",
    "    metrics = Metrics()\n",
    "    best_result = {\"F1\": 0, \"Precision\": 0, \"Recall\": 0, \"Accuracy\": 0, \"AUC\": 0}\n",
    "\n",
    "    \n",
    "    model = pickle.load(open(f\"Models/No SMOTE/{method_name}-model.sav\", 'rb'))\n",
    "                \n",
    "    y_pred = model.predict(X_test)\n",
    "\n",
    "    f1, precision, recall, accuracy, auc, kappa = metrics.get_results(y_test, y_pred)\n",
    "\n",
    "    print(f\"Score at fold F1-Score = {f1} Precision = {precision} Recall = {recall} Accuracy = {accuracy} AUC = {auc} Kappa = {kappa}\")\n",
    "\n",
    "    best_result = {\"Method\": [method_name], \"F1\": [f1], \"Precision\": [precision], \"Recall\": [recall], \"Accuracy\": [accuracy], \"AUC\": [auc], \"Kappa\": [kappa]}\n",
    "    \n",
    "    generate_reports(best_result, method_name, \"test\")"
   ]
  },
  {
   "cell_type": "code",
   "execution_count": 205,
   "metadata": {},
   "outputs": [
    {
     "name": "stdout",
     "output_type": "stream",
     "text": [
      "Score at fold F1-Score = 0.7872396699601601 Precision = 0.7927147067054827 Recall = 0.8110833333333334 Accuracy = 0.8110833333333334 AUC = 0.6458101394416766 Kappa = 0.3516141100057545\n",
      "Score at fold F1-Score = 0.7942840622415219 Precision = 0.8006728869134466 Recall = 0.8168333333333333 Accuracy = 0.8168333333333333 AUC = 0.6554815178420066 Kappa = 0.373595958183493\n",
      "Score at fold F1-Score = 0.7039764691217739 Precision = 0.6889970108527131 Recall = 0.7423333333333333 Accuracy = 0.7423333333333333 AUC = 0.5376768955945943 Kappa = 0.0931664874376773\n",
      "Score at fold F1-Score = 0.7306977110238746 Precision = 0.730645511511165 Recall = 0.73075 Accuracy = 0.73075 AUC = 0.6165927941217401 Kappa = 0.2332761171007982\n",
      "Score at fold F1-Score = 0.789873427424248 Precision = 0.7949766600981663 Recall = 0.81275 Accuracy = 0.81275 AUC = 0.6501226218881178 Kappa = 0.3603274334032629\n",
      "Score at fold F1-Score = 0.7884594158736102 Precision = 0.800701422879909 Recall = 0.81575 Accuracy = 0.81575 AUC = 0.6424914098259445 Kappa = 0.3520676592577253\n",
      "Score at fold F1-Score = 0.7941592833066327 Precision = 0.8031602256854647 Recall = 0.81825 Accuracy = 0.81825 AUC = 0.6530349312659564 Kappa = 0.37170319424060294\n",
      "Score at fold F1-Score = 0.7960510897527643 Precision = 0.804773420009546 Recall = 0.8195 Accuracy = 0.8195 AUC = 0.6560429154468789 Kappa = 0.3778812961514806\n"
     ]
    }
   ],
   "source": [
    "for key in methods.keys():\n",
    "    test(method_name=key)"
   ]
  },
  {
   "cell_type": "markdown",
   "metadata": {},
   "source": [
    "## Results"
   ]
  },
  {
   "cell_type": "code",
   "execution_count": 207,
   "metadata": {},
   "outputs": [
    {
     "data": {
      "text/html": [
       "<div>\n",
       "<style scoped>\n",
       "    .dataframe tbody tr th:only-of-type {\n",
       "        vertical-align: middle;\n",
       "    }\n",
       "\n",
       "    .dataframe tbody tr th {\n",
       "        vertical-align: top;\n",
       "    }\n",
       "\n",
       "    .dataframe thead th {\n",
       "        text-align: right;\n",
       "    }\n",
       "</style>\n",
       "<table border=\"1\" class=\"dataframe\">\n",
       "  <thead>\n",
       "    <tr style=\"text-align: right;\">\n",
       "      <th></th>\n",
       "      <th>F1</th>\n",
       "      <th>Precision</th>\n",
       "      <th>Recall</th>\n",
       "      <th>Accuracy</th>\n",
       "      <th>AUC</th>\n",
       "      <th>Kappa</th>\n",
       "      <th>Method</th>\n",
       "    </tr>\n",
       "  </thead>\n",
       "  <tbody>\n",
       "    <tr>\n",
       "      <th>0</th>\n",
       "      <td>0.703976</td>\n",
       "      <td>0.688997</td>\n",
       "      <td>0.742333</td>\n",
       "      <td>0.742333</td>\n",
       "      <td>0.537677</td>\n",
       "      <td>0.093166</td>\n",
       "      <td>knn</td>\n",
       "    </tr>\n",
       "    <tr>\n",
       "      <th>0</th>\n",
       "      <td>0.730698</td>\n",
       "      <td>0.730646</td>\n",
       "      <td>0.730750</td>\n",
       "      <td>0.730750</td>\n",
       "      <td>0.616593</td>\n",
       "      <td>0.233276</td>\n",
       "      <td>decision-tree</td>\n",
       "    </tr>\n",
       "    <tr>\n",
       "      <th>0</th>\n",
       "      <td>0.788459</td>\n",
       "      <td>0.800701</td>\n",
       "      <td>0.815750</td>\n",
       "      <td>0.815750</td>\n",
       "      <td>0.642491</td>\n",
       "      <td>0.352068</td>\n",
       "      <td>ada-boost</td>\n",
       "    </tr>\n",
       "    <tr>\n",
       "      <th>0</th>\n",
       "      <td>0.787240</td>\n",
       "      <td>0.792715</td>\n",
       "      <td>0.811083</td>\n",
       "      <td>0.811083</td>\n",
       "      <td>0.645810</td>\n",
       "      <td>0.351614</td>\n",
       "      <td>xgboost</td>\n",
       "    </tr>\n",
       "    <tr>\n",
       "      <th>0</th>\n",
       "      <td>0.789873</td>\n",
       "      <td>0.794977</td>\n",
       "      <td>0.812750</td>\n",
       "      <td>0.812750</td>\n",
       "      <td>0.650123</td>\n",
       "      <td>0.360327</td>\n",
       "      <td>extra-trees</td>\n",
       "    </tr>\n",
       "    <tr>\n",
       "      <th>0</th>\n",
       "      <td>0.794159</td>\n",
       "      <td>0.803160</td>\n",
       "      <td>0.818250</td>\n",
       "      <td>0.818250</td>\n",
       "      <td>0.653035</td>\n",
       "      <td>0.371703</td>\n",
       "      <td>gradient-boosting</td>\n",
       "    </tr>\n",
       "    <tr>\n",
       "      <th>0</th>\n",
       "      <td>0.794284</td>\n",
       "      <td>0.800673</td>\n",
       "      <td>0.816833</td>\n",
       "      <td>0.816833</td>\n",
       "      <td>0.655482</td>\n",
       "      <td>0.373596</td>\n",
       "      <td>random-forest</td>\n",
       "    </tr>\n",
       "    <tr>\n",
       "      <th>0</th>\n",
       "      <td>0.796051</td>\n",
       "      <td>0.804773</td>\n",
       "      <td>0.819500</td>\n",
       "      <td>0.819500</td>\n",
       "      <td>0.656043</td>\n",
       "      <td>0.377881</td>\n",
       "      <td>histogram-boosting</td>\n",
       "    </tr>\n",
       "  </tbody>\n",
       "</table>\n",
       "</div>"
      ],
      "text/plain": [
       "         F1  Precision    Recall  Accuracy       AUC     Kappa  \\\n",
       "0  0.703976   0.688997  0.742333  0.742333  0.537677  0.093166   \n",
       "0  0.730698   0.730646  0.730750  0.730750  0.616593  0.233276   \n",
       "0  0.788459   0.800701  0.815750  0.815750  0.642491  0.352068   \n",
       "0  0.787240   0.792715  0.811083  0.811083  0.645810  0.351614   \n",
       "0  0.789873   0.794977  0.812750  0.812750  0.650123  0.360327   \n",
       "0  0.794159   0.803160  0.818250  0.818250  0.653035  0.371703   \n",
       "0  0.794284   0.800673  0.816833  0.816833  0.655482  0.373596   \n",
       "0  0.796051   0.804773  0.819500  0.819500  0.656043  0.377881   \n",
       "\n",
       "               Method  \n",
       "0                 knn  \n",
       "0       decision-tree  \n",
       "0           ada-boost  \n",
       "0             xgboost  \n",
       "0         extra-trees  \n",
       "0   gradient-boosting  \n",
       "0       random-forest  \n",
       "0  histogram-boosting  "
      ]
     },
     "execution_count": 207,
     "metadata": {},
     "output_type": "execute_result"
    }
   ],
   "source": [
    "results = pd.DataFrame(columns=[\"F1\", \"Precision\", \"Recall\", \"Accuracy\", \"AUC\", \"Kappa\"])\n",
    "\n",
    "for key in methods.keys():\n",
    "    results = pd.concat([results, pd.read_csv(f\"Reports/No SMOTE/{key}-test-reports.csv\")])\n",
    " \n",
    "results.sort_values(by=\"AUC\")"
   ]
  }
 ],
 "metadata": {
  "interpreter": {
   "hash": "0973d6013fea1e6f7f2f9c6aadc5d90f95a3cc4fae2d49d683c1580432583f3b"
  },
  "kernelspec": {
   "display_name": "Python 3.7.0 64-bit",
   "language": "python",
   "name": "python3"
  },
  "language_info": {
   "codemirror_mode": {
    "name": "ipython",
    "version": 3
   },
   "file_extension": ".py",
   "mimetype": "text/x-python",
   "name": "python",
   "nbconvert_exporter": "python",
   "pygments_lexer": "ipython3",
   "version": "3.7.0"
  },
  "orig_nbformat": 4
 },
 "nbformat": 4,
 "nbformat_minor": 2
}
